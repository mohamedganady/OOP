{
 "cells": [
  {
   "cell_type": "code",
   "execution_count": 10,
   "id": "7dabdbc3",
   "metadata": {},
   "outputs": [],
   "source": [
    "from tkinter import *\n",
    "from gtts import gTTS\n",
    "from playsound import playsound\n",
    "\n",
    "scr = Tk()\n",
    "scr.geometry(\"350x300\")\n",
    "scr.resizable(0,0)\n",
    "#scr.config(bg=\"ghost white\")\n",
    "scr.title(\"LearnCodeEasily Text-to-Speech\")\n",
    "\n",
    "Label(scr, text=\"Text-To-Speech\", font=\"arial 20 bold\").pack()\n",
    "\n",
    "Label(scr, text=\"Enter Your Text:\", font=\"arial 15 bold\").place(x = 20, y = 60)\n",
    "\n",
    "Msg = StringVar()\n",
    "\n",
    "enter = Entry(scr, textvariable=Msg, width=50)\n",
    "enter.place(x = 20, y = 100)\n",
    "\n",
    "def TTS():\n",
    "    Message = enter.get()\n",
    "    speech = gTTS(text=Message)\n",
    "    speech.save(\"ll.mp3\")\n",
    "    playsound(\"ll.mp3\")\n",
    "\n",
    "def exit():\n",
    "    scr.destroy()   \n",
    "\n",
    "def Reset():\n",
    "    Msg.set('')   \n",
    "\n",
    "Button(scr, text=\"Play\", font=\"arial 15 bold\", command=TTS, width=4).place(x = 40, y = 140)      \n",
    "Button(scr, text=\"Exit\", font=\"arial 15 bold\",bg=\"orangered1\", command=exit).place(x = 110, y = 140) \n",
    "Button(scr, text=\"Set\", font=\"arial 15 bold\", command=Reset).place(x = 180, y = 140)    \n",
    "\n",
    "scr.mainloop()"
   ]
  },
  {
   "cell_type": "code",
   "execution_count": null,
   "id": "966822bf",
   "metadata": {},
   "outputs": [],
   "source": []
  }
 ],
 "metadata": {
  "kernelspec": {
   "display_name": "Python 3 (ipykernel)",
   "language": "python",
   "name": "python3"
  },
  "language_info": {
   "codemirror_mode": {
    "name": "ipython",
    "version": 3
   },
   "file_extension": ".py",
   "mimetype": "text/x-python",
   "name": "python",
   "nbconvert_exporter": "python",
   "pygments_lexer": "ipython3",
   "version": "3.11.5"
  }
 },
 "nbformat": 4,
 "nbformat_minor": 5
}
