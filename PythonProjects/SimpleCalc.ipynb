{
 "cells": [
  {
   "cell_type": "code",
   "execution_count": 26,
   "id": "591211db",
   "metadata": {},
   "outputs": [
    {
     "name": "stdout",
     "output_type": "stream",
     "text": [
      "Enter First Number : 7\n",
      "Enter operation-\n",
      "Enter First Number : 4\n"
     ]
    }
   ],
   "source": [
    "num1 = float(input(\"Enter First Number : \"))\n",
    "op = input(\"Enter operation\")\n",
    "num2 = float(input(\"Enter First Number : \"))"
   ]
  },
  {
   "cell_type": "code",
   "execution_count": 27,
   "id": "5ead3422",
   "metadata": {},
   "outputs": [
    {
     "name": "stdout",
     "output_type": "stream",
     "text": [
      "3\n"
     ]
    }
   ],
   "source": [
    "# we will use if statement\n",
    "if op == '+' :\n",
    "    result = num1 + num2\n",
    "    print(result)\n",
    "    \n",
    "elif op == '-':\n",
    "    result = num1 - num2\n",
    "    print(result)\n",
    "\n",
    "elif op == '*':\n",
    "    result = num1 * num2\n",
    "    print(result)\n",
    "    \n",
    "elif op == '/':\n",
    "    result = num1 / num2\n",
    "    print(result)\n",
    "\n",
    "else :\n",
    "    print(\" please enter a correct operation\")"
   ]
  },
  {
   "cell_type": "code",
   "execution_count": 28,
   "id": "def49368",
   "metadata": {},
   "outputs": [],
   "source": [
    "# let's try function\n",
    "def sum(x,y):\n",
    "    return x + y\n",
    "\n",
    "def sub (x , y):\n",
    "    return x - y\n",
    "\n",
    "def multi(x , y):\n",
    "    return x*y\n",
    "\n",
    "def div(x,y):\n",
    "    return x / y"
   ]
  },
  {
   "cell_type": "code",
   "execution_count": 32,
   "id": "db0c8bec",
   "metadata": {},
   "outputs": [
    {
     "name": "stdout",
     "output_type": "stream",
     "text": [
      "3\n"
     ]
    }
   ],
   "source": [
    "if op == '+' :\n",
    "    print(sum(num1,num2))\n",
    "    \n",
    "elif op == '-':\n",
    "    print(sub(num1,num2))\n",
    "\n",
    "elif op == '*':\n",
    "    print(multi(num1,num2))\n",
    "    \n",
    "elif op == '/':\n",
    "    print(div(num1,num2))"
   ]
  },
  {
   "cell_type": "code",
   "execution_count": null,
   "id": "379e8810",
   "metadata": {},
   "outputs": [],
   "source": []
  }
 ],
 "metadata": {
  "kernelspec": {
   "display_name": "Python 3 (ipykernel)",
   "language": "python",
   "name": "python3"
  },
  "language_info": {
   "codemirror_mode": {
    "name": "ipython",
    "version": 3
   },
   "file_extension": ".py",
   "mimetype": "text/x-python",
   "name": "python",
   "nbconvert_exporter": "python",
   "pygments_lexer": "ipython3",
   "version": "3.11.5"
  }
 },
 "nbformat": 4,
 "nbformat_minor": 5
}
