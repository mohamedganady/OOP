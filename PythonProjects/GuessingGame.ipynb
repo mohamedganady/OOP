{
 "cells": [
  {
   "cell_type": "code",
   "execution_count": 2,
   "id": "563b8d5f",
   "metadata": {},
   "outputs": [
    {
     "name": "stdout",
     "output_type": "stream",
     "text": [
      "please enter your guess: 1\n",
      "the number is bigger\n",
      "please enter your guess: 4\n",
      "you win\n"
     ]
    }
   ],
   "source": [
    "# import libraries\n",
    "import random\n",
    "\n",
    "# create varebiles\n",
    "num = random.randint(1,5)\n",
    "guess = \"\"\n",
    "count = 0\n",
    "limit = 3\n",
    "out = False\n",
    "\n",
    "# while loop for enter guessings\n",
    "while guess != num and not out:\n",
    "    # try for debugging mistakes of user\n",
    "    try:\n",
    "        # if condition for give the user hintes\n",
    "        if count < limit:\n",
    "            guess = int(input(\"please enter your guess: \"))\n",
    "            count += 1\n",
    "            if guess > num:\n",
    "                print(\"the number is smaller\")\n",
    "            elif guess < num:\n",
    "                print(\"the number is bigger\")    \n",
    "        else:\n",
    "            out = True\n",
    "    except ValueError:\n",
    "        print(\"please enter number only\")         \n",
    "      \n",
    "# if condition for know do the user win or no     \n",
    "if out:\n",
    "    print(\"you lose\")\n",
    "else:\n",
    "    print(\"you win\")    "
   ]
  },
  {
   "cell_type": "code",
   "execution_count": null,
   "id": "e17144fc",
   "metadata": {},
   "outputs": [],
   "source": [
    "# simple guess\n",
    "num = \"5\"\n",
    "guess = \"\"\n",
    "count = 0\n",
    "limit = 3    #number of tries u can do it\n",
    "out = False\n",
    "\n",
    "\n",
    "while guess != num and not out :\n",
    "    if count < limit :\n",
    "        guess = input(\"enter your guess : \")\n",
    "        count +=1\n",
    "    else :\n",
    "        out = True\n",
    "        \n",
    "if out :\n",
    "    print(\"u lose\")\n",
    "else :\n",
    "    print(\"u win\")"
   ]
  },
  {
   "cell_type": "code",
   "execution_count": null,
   "id": "d774d9a8",
   "metadata": {},
   "outputs": [
    {
     "name": "stdout",
     "output_type": "stream",
     "text": [
      "Enter an integer from 1 to 99: 5\n",
      "guess is low\n",
      "Enter an integer from 1 to 99: 50\n",
      "guess is high\n",
      "Enter an integer from 1 to 99: 40\n",
      "guess is high\n",
      "Enter an integer from 1 to 99: 30\n",
      "guess is high\n",
      "Enter an integer from 1 to 99: 20\n",
      "guess is high\n",
      "Enter an integer from 1 to 99: 10\n",
      "guess is low\n",
      "Enter an integer from 1 to 99: 15\n",
      "guess is low\n"
     ]
    }
   ],
   "source": [
    "# another solution\n",
    "import random\n",
    "n = random.randint(1, 99)\n",
    "guess = int(input(\"Enter an integer from 1 to 99: \"))\n",
    "while True:\n",
    "    if guess < n:\n",
    "        print (\"guess is low\")\n",
    "        guess = int(input(\"Enter an integer from 1 to 99: \"))\n",
    "    elif guess > n:\n",
    "        print (\"guess is high\")\n",
    "        guess = int(input(\"Enter an integer from 1 to 99: \"))\n",
    "    else:\n",
    "        print (\"you guessed it right! Bye!\")\n",
    "        break"
   ]
  },
  {
   "cell_type": "code",
   "execution_count": null,
   "id": "3f73ae7e",
   "metadata": {},
   "outputs": [],
   "source": []
  }
 ],
 "metadata": {
  "kernelspec": {
   "display_name": "Python 3 (ipykernel)",
   "language": "python",
   "name": "python3"
  },
  "language_info": {
   "codemirror_mode": {
    "name": "ipython",
    "version": 3
   },
   "file_extension": ".py",
   "mimetype": "text/x-python",
   "name": "python",
   "nbconvert_exporter": "python",
   "pygments_lexer": "ipython3",
   "version": "3.11.5"
  }
 },
 "nbformat": 4,
 "nbformat_minor": 5
}
