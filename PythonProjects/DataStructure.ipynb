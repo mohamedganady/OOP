{
 "cells": [
  {
   "cell_type": "markdown",
   "id": "4b1021ce-9754-4e3b-9ca4-2cde746f14a3",
   "metadata": {
    "tags": []
   },
   "source": [
    "## Data Structure "
   ]
  },
  {
   "cell_type": "code",
   "execution_count": null,
   "id": "d71fed05-0160-4cfd-b4c8-6e735b11bd5f",
   "metadata": {},
   "outputs": [],
   "source": [
    "#append , insert , extend , sort \n",
    "x=[1,9,2,3]\n",
    "x.append(4)\n",
    "x.insert(4 , 5)\n",
    "y=[6,12,8]\n",
    "x.extend(y)\n",
    "x.sort()\n",
    "print(x)"
   ]
  },
  {
   "cell_type": "code",
   "execution_count": 55,
   "id": "028286fb-b8e1-4af8-9006-436365510aeb",
   "metadata": {
    "tags": []
   },
   "outputs": [
    {
     "name": "stdout",
     "output_type": "stream",
     "text": [
      "[12, 9, 8, 6, 5, 4, 3, 2, 1]\n"
     ]
    }
   ],
   "source": [
    "x.sort(reverse=True)\n",
    "print(x)"
   ]
  },
  {
   "cell_type": "code",
   "execution_count": 17,
   "id": "b753f152-4122-4c77-a671-f7f5c2424f81",
   "metadata": {
    "tags": []
   },
   "outputs": [
    {
     "name": "stdout",
     "output_type": "stream",
     "text": [
      "4\n"
     ]
    }
   ],
   "source": [
    "print(len(x))"
   ]
  },
  {
   "cell_type": "code",
   "execution_count": 57,
   "id": "4aa2f6dc-1693-4e10-84c0-cebe6ebe7a46",
   "metadata": {
    "tags": []
   },
   "outputs": [
    {
     "name": "stdout",
     "output_type": "stream",
     "text": [
      "[12, 9, 8, 6, 4, 3, 2, 1]\n"
     ]
    }
   ],
   "source": [
    "#Deleting elements from LISt\n",
    "#append , insert , extend , sort \n",
    "x.remove(5)\n",
    "print(x)"
   ]
  },
  {
   "cell_type": "code",
   "execution_count": 51,
   "id": "21add2eb-b01e-48fb-b113-74d6b98c0b78",
   "metadata": {
    "tags": []
   },
   "outputs": [
    {
     "name": "stdout",
     "output_type": "stream",
     "text": [
      "[2, 3, 6, 8, 9, 12]\n"
     ]
    }
   ],
   "source": [
    "#pop will remove the last item in the list \n",
    "x.pop()"
   ]
  },
  {
   "cell_type": "code",
   "execution_count": 61,
   "id": "04931ae1-faf2-4037-8940-cd56ceada924",
   "metadata": {
    "tags": []
   },
   "outputs": [
    {
     "name": "stdout",
     "output_type": "stream",
     "text": [
      "[1, 2, 3, 4, 5, 6, 7, 8, 9]\n"
     ]
    }
   ],
   "source": [
    "# if you want remove items or more use this commands    Variable.pop , Variable.remove and Variable.pop() \n",
    "x=[1,2,3,4,5,6,7,8,9,0,10,12]\n",
    "x.remove(0)\n",
    "x.pop()\n",
    "x.pop(9)\n",
    "print(x)"
   ]
  },
  {
   "cell_type": "code",
   "execution_count": 67,
   "id": "aa1c22c2-6eb2-42b8-bbd5-d1fae34a0961",
   "metadata": {
    "tags": []
   },
   "outputs": [
    {
     "name": "stdout",
     "output_type": "stream",
     "text": [
      "[]\n"
     ]
    }
   ],
   "source": [
    "# clear removes all items in the list \n",
    "x.clear()\n",
    "print(x)"
   ]
  },
  {
   "cell_type": "markdown",
   "id": "b1dad3c0-f2f5-4b3e-a867-0763af83babc",
   "metadata": {},
   "source": [
    "## Tuple"
   ]
  },
  {
   "cell_type": "code",
   "execution_count": 84,
   "id": "7a83006a-5b88-4bef-8413-4f60b03c8714",
   "metadata": {
    "tags": []
   },
   "outputs": [
    {
     "name": "stdout",
     "output_type": "stream",
     "text": [
      "<class 'tuple'>\n",
      "<class 'list'>\n"
     ]
    },
    {
     "data": {
      "text/plain": [
       "['Aziz', 'rayan', 'faisal', 'apple']"
      ]
     },
     "execution_count": 84,
     "metadata": {},
     "output_type": "execute_result"
    }
   ],
   "source": [
    "#Once a tuple is created, you cannot change , u can convert tuple to list \n",
    "x = (\"Aziz\",\"rayan\",\"faisal\",1)\n",
    "print(type(x))\n",
    "x=list(x)\n",
    "print(type(x))\n",
    "x[3] = \"apple\"\n",
    "x"
   ]
  },
  {
   "cell_type": "code",
   "execution_count": 86,
   "id": "d5607209-07a1-4e7e-8511-6839fc635462",
   "metadata": {
    "tags": []
   },
   "outputs": [
    {
     "name": "stdout",
     "output_type": "stream",
     "text": [
      "(1, 2, 3, 4, 5, 6, 7)\n"
     ]
    }
   ],
   "source": [
    "# u can join two tuples\n",
    "x = (1 , 2 , 3)\n",
    "y = (4 , 5 , 6 , 7)\n",
    "aziz = x + y\n",
    "print(aziz)"
   ]
  },
  {
   "cell_type": "code",
   "execution_count": 98,
   "id": "29aecaa6-79de-42b6-a64d-41a491d8c602",
   "metadata": {
    "tags": []
   },
   "outputs": [
    {
     "name": "stdout",
     "output_type": "stream",
     "text": [
      "(1, 2, 3, 4, (4, 5), (6, 7), 8, 7, 9)\n"
     ]
    }
   ],
   "source": [
    "x = [1,2,3,4]\n",
    "y = [(4,5),(6,7)]\n",
    "z= (8,7,9)\n",
    "c = tuple(x+y) + z\n",
    "print(c)"
   ]
  },
  {
   "cell_type": "markdown",
   "id": "56f389a0-531d-4602-83e9-674325730303",
   "metadata": {
    "tags": []
   },
   "source": [
    "## SET"
   ]
  },
  {
   "cell_type": "code",
   "execution_count": null,
   "id": "33f9f460-76b4-4828-bf65-bd5f569b93d9",
   "metadata": {},
   "outputs": [],
   "source": [
    "# Set method \n",
    "# 1) add method \n",
    "# 2) update method\n",
    "# 3) len()\n",
    "# 4)To remove an item in a set, use the remove() or the discard() method\n",
    "# 5)You can use the union() method that returns a new set containing all items from both sets\n",
    "# 6)Intersection : will get common matching data items from both datasets."
   ]
  }
 ],
 "metadata": {
  "kernelspec": {
   "display_name": "Python 3 (ipykernel)",
   "language": "python",
   "name": "python3"
  },
  "language_info": {
   "codemirror_mode": {
    "name": "ipython",
    "version": 3
   },
   "file_extension": ".py",
   "mimetype": "text/x-python",
   "name": "python",
   "nbconvert_exporter": "python",
   "pygments_lexer": "ipython3",
   "version": "3.11.5"
  }
 },
 "nbformat": 4,
 "nbformat_minor": 5
}
