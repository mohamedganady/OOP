{
 "cells": [
  {
   "cell_type": "code",
   "execution_count": 1,
   "id": "348aca34",
   "metadata": {},
   "outputs": [
    {
     "name": "stdout",
     "output_type": "stream",
     "text": [
      "Do u want play? yes\n"
     ]
    }
   ],
   "source": [
    "WantToPlay = input(\"Do u want play? \")\n",
    "if WantToPlay.lower() != \"yes\":\n",
    "    quit()"
   ]
  },
  {
   "cell_type": "code",
   "execution_count": 2,
   "id": "d598154b",
   "metadata": {},
   "outputs": [
    {
     "name": "stdout",
     "output_type": "stream",
     "text": [
      " what is the owner of tesla ? elon mask\n",
      "correct\n"
     ]
    }
   ],
   "source": [
    "WantToPlay = input(\"Do u want play? \")\n",
    "if WantToPlay.lower() != \"yes\":\n",
    "    quit()\n",
    "    \n",
    "ques = input(\" what is the owner of tesla ? \")\n",
    "if ques.lower() == \"elon mask\" :\n",
    "    print(\"correct\")\n",
    "else :\n",
    "    print(\"Not Correct\")"
   ]
  },
  {
   "cell_type": "code",
   "execution_count": 3,
   "id": "2efa5c86",
   "metadata": {},
   "outputs": [
    {
     "name": "stdout",
     "output_type": "stream",
     "text": [
      "what is the king?allah\n",
      "True\n"
     ]
    }
   ],
   "source": [
    "WantToPlay = input(\"Do u want play? \")\n",
    "if WantToPlay.lower() != \"yes\":\n",
    "    quit()\n",
    "\n",
    "ques2 = input (\"what is the king?\")\n",
    "if ques2.lower()== \"allah\":\n",
    "    print(\"True\")\n",
    "else :\n",
    "    print(\"Not correst\")"
   ]
  },
  {
   "cell_type": "code",
   "execution_count": null,
   "id": "c4aef3e0",
   "metadata": {},
   "outputs": [],
   "source": [
    "WantToPlay = input(\"Do u want play? \")\n",
    "if WantToPlay.lower() != \"yes\":\n",
    "    quit()\n",
    "\n",
    "ques3 = input (\"what is the owner of space x ? \")\n",
    "if ques3.lower()== \" elon\":\n",
    "    print(\"True\")\n",
    "else :\n",
    "    print(\"Not correst\")"
   ]
  },
  {
   "cell_type": "code",
   "execution_count": null,
   "id": "7bb56ec4",
   "metadata": {},
   "outputs": [],
   "source": []
  }
 ],
 "metadata": {
  "kernelspec": {
   "display_name": "Python 3 (ipykernel)",
   "language": "python",
   "name": "python3"
  },
  "language_info": {
   "codemirror_mode": {
    "name": "ipython",
    "version": 3
   },
   "file_extension": ".py",
   "mimetype": "text/x-python",
   "name": "python",
   "nbconvert_exporter": "python",
   "pygments_lexer": "ipython3",
   "version": "3.11.5"
  }
 },
 "nbformat": 4,
 "nbformat_minor": 5
}
