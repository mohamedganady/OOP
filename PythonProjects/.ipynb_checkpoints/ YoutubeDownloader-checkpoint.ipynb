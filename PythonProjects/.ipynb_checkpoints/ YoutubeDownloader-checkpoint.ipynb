{
 "cells": [
  {
   "cell_type": "code",
   "execution_count": 1,
   "id": "497a4c55",
   "metadata": {},
   "outputs": [],
   "source": [
    "from tkinter import *\n",
    "from pytube import YouTube"
   ]
  },
  {
   "cell_type": "code",
   "execution_count": 4,
   "id": "6af05bd5",
   "metadata": {},
   "outputs": [],
   "source": [
    "root = Tk()\n",
    "root.geometry(\"500x300\")\n",
    "root.resizable(0,0)\n",
    "root.title(\"Youtube Downloader By GANADY\")\n",
    "Label(root,text=\"Youtube Downloader\" , font = \"areial 15 \").pack()   #.pack() to up the screen\n",
    "link = StringVar()\n",
    "\n",
    "Label(root, text = \"Paste the link here:\" , font = \"areial 15\").place(x = 160 , y=60)\n",
    "\n",
    "link_enter = Entry(root, width=70 , textvariable=70).place(x=32,y=90)\n",
    "\n",
    "#abel(root,text)\n",
    "root.mainloop()    # starts the main event loop of the application."
   ]
  },
  {
   "cell_type": "code",
   "execution_count": null,
   "id": "38f3fbea",
   "metadata": {},
   "outputs": [],
   "source": []
  }
 ],
 "metadata": {
  "kernelspec": {
   "display_name": "Python 3 (ipykernel)",
   "language": "python",
   "name": "python3"
  },
  "language_info": {
   "codemirror_mode": {
    "name": "ipython",
    "version": 3
   },
   "file_extension": ".py",
   "mimetype": "text/x-python",
   "name": "python",
   "nbconvert_exporter": "python",
   "pygments_lexer": "ipython3",
   "version": "3.11.5"
  }
 },
 "nbformat": 4,
 "nbformat_minor": 5
}
