{
 "cells": [
  {
   "cell_type": "code",
   "execution_count": 1,
   "id": "497a4c55",
   "metadata": {},
   "outputs": [],
   "source": [
    "from tkinter import *\n",
    "from pytube import YouTube"
   ]
  },
  {
   "cell_type": "code",
   "execution_count": 3,
   "id": "6af05bd5",
   "metadata": {},
   "outputs": [],
   "source": [
    "root = Tk()\n",
    "root.geometry(\"500x300\")\n",
    "root.resizable(0,0)\n",
    "root.title(\"Youtube Downloader By GANADY\")\n",
    "Label(root,text=\"Youtube Downloader\" , font = \"areial 15 \").pack()   #.pack() to up the screen\n",
    "link = StringVar()\n",
    "\n",
    "Label(root, text = \"Paste The Link here:\" , font = \"areial 15\").place(x = 160 , y= 60)\n",
    "\n",
    "link_enter = Entry(root, width=70 , textvariable=link).place( x=32, y=90)\n",
    "\n",
    "\n",
    "def high():\n",
    "    url = YouTube(str(link.get()))\n",
    "    \n",
    "    video = url.streams.get_highest_resolution()\n",
    "    \n",
    "    video.download()\n",
    "    \n",
    "    Label(root,text='DOWNLOADED!' , font =\"areial 15 bold\").place(x=180, y=210)\n",
    "\n",
    "Button(root, text=\"High Resulation\",font=\"areial 15\",bg=\"blue\", padx = 2 , command=high).place(x=190 , y=150)\n",
    "\n",
    "\n",
    "\n",
    "def low():\n",
    "    url = YouTube(str(link.get()))\n",
    "    \n",
    "    video = url.streams.get_lowest_resolution()\n",
    "    \n",
    "    video.download()\n",
    "    \n",
    "    Label(root,text='DOWNLOADED!' , font =\"areial 15 bold\").place(x=180, y=210)\n",
    "\n",
    "Button(root, text=\"low Resulation\",font=\"areial 15\",bg=\"yellow\", padx = 2 , command=low).place(x=10 , y=150)\n",
    "\n",
    "\n",
    "\n",
    "\n",
    "def audio_only():\n",
    "    url = YouTube(str(link.get()))\n",
    "    \n",
    "    video = url.streams.get_audio_only()\n",
    "    \n",
    "    video.download()\n",
    "    \n",
    "    Label(root,text='DOWNLOADED!' , font =\"areial 15 bold\").place(x=180, y=210)\n",
    "\n",
    "Button(root, text=\"audio only\",font=\"areial 15\",bg=\"green\", padx = 2 , command=audio_only).place(x=370 , y=150)\n",
    "\n",
    "\n",
    "\n",
    "\n",
    "root.mainloop()    # starts the main event loop of the application."
   ]
  },
  {
   "cell_type": "code",
   "execution_count": null,
   "id": "0b21d45f",
   "metadata": {},
   "outputs": [],
   "source": []
  },
  {
   "cell_type": "code",
   "execution_count": null,
   "id": "b4f94566",
   "metadata": {},
   "outputs": [],
   "source": []
  },
  {
   "cell_type": "code",
   "execution_count": 11,
   "id": "d257242f",
   "metadata": {},
   "outputs": [],
   "source": []
  },
  {
   "cell_type": "code",
   "execution_count": null,
   "id": "38f3fbea",
   "metadata": {},
   "outputs": [],
   "source": []
  }
 ],
 "metadata": {
  "kernelspec": {
   "display_name": "Python 3 (ipykernel)",
   "language": "python",
   "name": "python3"
  },
  "language_info": {
   "codemirror_mode": {
    "name": "ipython",
    "version": 3
   },
   "file_extension": ".py",
   "mimetype": "text/x-python",
   "name": "python",
   "nbconvert_exporter": "python",
   "pygments_lexer": "ipython3",
   "version": "3.11.5"
  }
 },
 "nbformat": 4,
 "nbformat_minor": 5
}
