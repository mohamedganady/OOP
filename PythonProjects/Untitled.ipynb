{
 "cells": [
  {
   "cell_type": "code",
   "execution_count": 3,
   "id": "27755736",
   "metadata": {
    "tags": []
   },
   "outputs": [
    {
     "name": "stdin",
     "output_type": "stream",
     "text": [
      "\u001b[36mEnter username: \u001b[32m abeer\n",
      "\u001b[36mEnter password: \u001b[32m abeer\n"
     ]
    },
    {
     "name": "stdout",
     "output_type": "stream",
     "text": [
      "\u001b[36m   Welcome!  this tool made by us Abeer&Taif \n"
     ]
    },
    {
     "name": "stdin",
     "output_type": "stream",
     "text": [
      "Enter URL:  https://software.informer.com/statuses.php\n"
     ]
    },
    {
     "name": "stdout",
     "output_type": "stream",
     "text": [
      "Extracted emails:\n"
     ]
    }
   ],
   "source": [
    "import requests\n",
    "import re\n",
    "import os\n",
    "\n",
    "# Clear the terminal screen\n",
    "os.system('clear')\n",
    "\n",
    "# Credentials\n",
    "user = 'abeer'\n",
    "passo = 'abeer'\n",
    "\n",
    "# ANSI color codeskjb\n",
    "C = '\\033[36m'  # cyan\n",
    "G = '\\033[32m'  # green\n",
    "\n",
    "# Authentication\n",
    "v1 = input(C+'Enter username: '+G)\n",
    "v2 = input(C+'Enter password: '+G)\n",
    "\n",
    "if user == v1 and passo == v2:\n",
    "    os.system('clear')\n",
    "    print(C+'   Welcome!  this tool made by us Abeer&Taif ')\n",
    "\n",
    "    # Input URL\n",
    "    url = input('Enter URL: ')\n",
    "\n",
    "    # Fetch webpage content\n",
    "    response = requests.get(url)\n",
    "    \n",
    "    if response.status_code == 200:\n",
    "        spider = response.text\n",
    "\n",
    "        # Extract emails using regex\n",
    "        emails = re.findall(r'\\b[A-Za-z0-9._%+-]+@[A-Za-z0-9.-]+\\.[A-Z|a-z]{2,}\\b', spider)\n",
    "\n",
    "        # Print extracted emails\n",
    "        print(\"Extracted emails:\")\n",
    "        for email in emails:\n",
    "            print(email)\n",
    "    else:\n",
    "        print(\"Failed to fetch the webpage. Status code:\", response.status_code)\n",
    "else:\n",
    "    print('Invalid username or password.')"
   ]
  },
  {
   "cell_type": "code",
   "execution_count": 9,
   "id": "9183bf51-7630-4436-90b9-3364f1b61702",
   "metadata": {
    "tags": []
   },
   "outputs": [
    {
     "ename": "ModuleNotFoundError",
     "evalue": "No module named 'modules.sort'; 'modules' is not a package",
     "output_type": "error",
     "traceback": [
      "\u001b[1;31m---------------------------------------------------------------------------\u001b[0m",
      "\u001b[1;31mModuleNotFoundError\u001b[0m                       Traceback (most recent call last)",
      "Cell \u001b[1;32mIn[9], line 1\u001b[0m\n\u001b[1;32m----> 1\u001b[0m \u001b[38;5;28;01mfrom\u001b[39;00m \u001b[38;5;21;01mmodules\u001b[39;00m\u001b[38;5;21;01m.\u001b[39;00m\u001b[38;5;21;01msort\u001b[39;00m \u001b[38;5;28;01mimport\u001b[39;00m Sort\n\u001b[0;32m      2\u001b[0m \u001b[38;5;28;01mfrom\u001b[39;00m \u001b[38;5;21;01mmodules\u001b[39;00m\u001b[38;5;21;01m.\u001b[39;00m\u001b[38;5;21;01msearch\u001b[39;00m \u001b[38;5;28;01mimport\u001b[39;00m Search\n\u001b[0;32m      4\u001b[0m banner \u001b[38;5;241m=\u001b[39m \u001b[38;5;124m\"\"\"\u001b[39m\n\u001b[0;32m      5\u001b[0m \u001b[38;5;124m  ▄████  ▒█████   ▒█████    ▄████  ██▓    ▓█████   █████▒█    ██ \u001b[39m\n\u001b[0;32m      6\u001b[0m \u001b[38;5;124m ██▒ ▀█▒▒██▒  ██▒▒██▒  ██▒ ██▒ ▀█▒▓██▒    ▓█   ▀ ▓██   ▒ ██  ▓██▒\u001b[39m\n\u001b[1;32m   (...)\u001b[0m\n\u001b[0;32m     14\u001b[0m \n\u001b[0;32m     15\u001b[0m \u001b[38;5;124m\"\"\"\u001b[39m\n",
      "\u001b[1;31mModuleNotFoundError\u001b[0m: No module named 'modules.sort'; 'modules' is not a package"
     ]
    }
   ],
   "source": []
  },
  {
   "cell_type": "code",
   "execution_count": 11,
   "id": "b87b0a6e-d805-41a6-a7e6-99f3dc9fb4af",
   "metadata": {
    "tags": []
   },
   "outputs": [
    {
     "name": "stdout",
     "output_type": "stream",
     "text": [
      "Note: you may need to restart the kernel to use updated packages.\n"
     ]
    },
    {
     "name": "stderr",
     "output_type": "stream",
     "text": [
      "ERROR: Could not find a version that satisfies the requirement modules.sort (from versions: none)\n",
      "ERROR: No matching distribution found for modules.sort\n"
     ]
    }
   ],
   "source": [
    "pip install modules.sort"
   ]
  },
  {
   "cell_type": "code",
   "execution_count": 2,
   "id": "4efccea8-4a7e-4c51-9ea8-c40fbf9e4441",
   "metadata": {},
   "outputs": [
    {
     "name": "stdout",
     "output_type": "stream",
     "text": [
      "5\n"
     ]
    }
   ],
   "source": [
    "x = 5\n",
    "print(x)"
   ]
  },
  {
   "cell_type": "code",
   "execution_count": 4,
   "id": "095f180f-1abc-4c9f-b339-e0633b439756",
   "metadata": {
    "tags": []
   },
   "outputs": [
    {
     "name": "stdout",
     "output_type": "stream",
     "text": [
      "5\n"
     ]
    }
   ],
   "source": [
    "aziz = 5 \n",
    "print(aziz)"
   ]
  },
  {
   "cell_type": "code",
   "execution_count": 6,
   "id": "d32c9a37-e1de-48ea-8582-7a2f8e042de1",
   "metadata": {
    "tags": []
   },
   "outputs": [
    {
     "ename": "SyntaxError",
     "evalue": "invalid syntax (243757018.py, line 1)",
     "output_type": "error",
     "traceback": [
      "\u001b[1;36m  Cell \u001b[1;32mIn[6], line 1\u001b[1;36m\u001b[0m\n\u001b[1;33m    and = 5\u001b[0m\n\u001b[1;37m    ^\u001b[0m\n\u001b[1;31mSyntaxError\u001b[0m\u001b[1;31m:\u001b[0m invalid syntax\n"
     ]
    }
   ],
   "source": [
    "and = 5\n"
   ]
  },
  {
   "cell_type": "code",
   "execution_count": 8,
   "id": "0b523bc1-3034-473d-9c0b-b4ed48136e69",
   "metadata": {
    "tags": []
   },
   "outputs": [
    {
     "name": "stdout",
     "output_type": "stream",
     "text": [
      "15\n"
     ]
    }
   ],
   "source": [
    "age = 5\n",
    "age = 15\n",
    "print(age)"
   ]
  },
  {
   "cell_type": "code",
   "execution_count": 10,
   "id": "8e1a232d-1dbf-4355-ac2f-b78ac0f89c1a",
   "metadata": {
    "tags": []
   },
   "outputs": [
    {
     "name": "stdout",
     "output_type": "stream",
     "text": [
      "2\n"
     ]
    }
   ],
   "source": [
    "x= 15\n",
    "x = 2\n",
    "print(x)"
   ]
  },
  {
   "cell_type": "code",
   "execution_count": 12,
   "id": "33e668fa-f578-45e5-b3b3-b5f7462757b4",
   "metadata": {
    "tags": []
   },
   "outputs": [
    {
     "name": "stdout",
     "output_type": "stream",
     "text": [
      "20\n"
     ]
    }
   ],
   "source": [
    "a = b = c = 20\n",
    "print (c)"
   ]
  },
  {
   "cell_type": "code",
   "execution_count": 20,
   "id": "1ee06ab0-2f6e-4ceb-aeac-d17a4667c515",
   "metadata": {
    "tags": []
   },
   "outputs": [
    {
     "name": "stdout",
     "output_type": "stream",
     "text": [
      "Hello aziz \n",
      " hi mary\n"
     ]
    }
   ],
   "source": [
    "print(\"Hello aziz \\n hi mary\")"
   ]
  },
  {
   "cell_type": "code",
   "execution_count": 36,
   "id": "2a1067a0-756f-48e0-ac9d-888d03b76947",
   "metadata": {
    "tags": []
   },
   "outputs": [
    {
     "name": "stdout",
     "output_type": "stream",
     "text": [
      "hello world  \n",
      "  hello world\n"
     ]
    }
   ],
   "source": [
    "Aziz = \"hello world\"\n",
    "nasser= 'hello world'\n",
    "print(Aziz,\" \\n \",nasser)"
   ]
  },
  {
   "cell_type": "code",
   "execution_count": 42,
   "id": "00436299-8ce1-4558-85de-c79166570730",
   "metadata": {
    "tags": []
   },
   "outputs": [
    {
     "name": "stdout",
     "output_type": "stream",
     "text": [
      "hello world't\n"
     ]
    }
   ],
   "source": [
    "print(\"hello world't\")"
   ]
  },
  {
   "cell_type": "code",
   "execution_count": 48,
   "id": "d749d083-6af2-44ed-81c8-cf7ba6e964e3",
   "metadata": {
    "tags": []
   },
   "outputs": [
    {
     "name": "stdout",
     "output_type": "stream",
     "text": [
      "5.666666666666667\n"
     ]
    }
   ],
   "source": [
    "print(17/3)"
   ]
  },
  {
   "cell_type": "code",
   "execution_count": 50,
   "id": "34f22e85-bee7-4d85-b8d1-79b58a130014",
   "metadata": {
    "tags": []
   },
   "outputs": [
    {
     "name": "stdout",
     "output_type": "stream",
     "text": [
      "5\n"
     ]
    }
   ],
   "source": [
    "print(17//3)"
   ]
  },
  {
   "cell_type": "code",
   "execution_count": 62,
   "id": "99a6c181-72a8-46f1-a26c-88df22c343a1",
   "metadata": {
    "tags": []
   },
   "outputs": [
    {
     "name": "stdout",
     "output_type": "stream",
     "text": [
      "0\n"
     ]
    }
   ],
   "source": [
    "print(12%3)"
   ]
  },
  {
   "cell_type": "code",
   "execution_count": 64,
   "id": "f8fd1b21-d1bc-4c0f-ad01-3bda6ec0cc49",
   "metadata": {
    "tags": []
   },
   "outputs": [
    {
     "name": "stdout",
     "output_type": "stream",
     "text": [
      "8\n"
     ]
    }
   ],
   "source": [
    "print(2**3)"
   ]
  },
  {
   "cell_type": "code",
   "execution_count": 68,
   "id": "1dfa1a3e-2270-4674-b9d9-dcd579d9a0e7",
   "metadata": {
    "tags": []
   },
   "outputs": [
    {
     "ename": "TypeError",
     "evalue": "can only concatenate str (not \"int\") to str",
     "output_type": "error",
     "traceback": [
      "\u001b[1;31m---------------------------------------------------------------------------\u001b[0m",
      "\u001b[1;31mTypeError\u001b[0m                                 Traceback (most recent call last)",
      "Cell \u001b[1;32mIn[68], line 3\u001b[0m\n\u001b[0;32m      1\u001b[0m a \u001b[38;5;241m=\u001b[39m \u001b[38;5;124m\"\u001b[39m\u001b[38;5;124mhi\u001b[39m\u001b[38;5;124m\"\u001b[39m\n\u001b[0;32m      2\u001b[0m b \u001b[38;5;241m=\u001b[39m \u001b[38;5;241m5\u001b[39m\n\u001b[1;32m----> 3\u001b[0m \u001b[38;5;28mprint\u001b[39m(a\u001b[38;5;241m+\u001b[39mb)\n",
      "\u001b[1;31mTypeError\u001b[0m: can only concatenate str (not \"int\") to str"
     ]
    }
   ],
   "source": [
    "a = \"hi\"\n",
    "b = 5\n",
    "print(a+b)"
   ]
  },
  {
   "cell_type": "code",
   "execution_count": 74,
   "id": "ee51a9f3-79af-4584-bb19-8058e901d4cf",
   "metadata": {
    "tags": []
   },
   "outputs": [
    {
     "name": "stdout",
     "output_type": "stream",
     "text": [
      "my name is aziz and my age is 13\n"
     ]
    }
   ],
   "source": [
    "name = \"aziz\"\n",
    "age = 13\n",
    "z =f\"my name is {name} and my age is {age}\"\n",
    "print(z)"
   ]
  },
  {
   "cell_type": "code",
   "execution_count": 78,
   "id": "c3579052-23b1-4752-aa7b-38cffcbcf2dd",
   "metadata": {
    "tags": []
   },
   "outputs": [
    {
     "name": "stdout",
     "output_type": "stream",
     "text": [
      "my name is aziz and my age is 13\n"
     ]
    }
   ],
   "source": [
    "name = \"aziz\"\n",
    "age = 13\n",
    "z =\"my name is {} and my age is {}\".format(name,age)\n",
    "print(z)"
   ]
  },
  {
   "cell_type": "code",
   "execution_count": null,
   "id": "83fb8084-1dcf-403b-afaf-5372b23788bb",
   "metadata": {},
   "outputs": [],
   "source": []
  },
  {
   "cell_type": "code",
   "execution_count": null,
   "id": "be4e6bfd-fad9-4d20-b0c8-18ad00430a6a",
   "metadata": {},
   "outputs": [],
   "source": []
  },
  {
   "cell_type": "code",
   "execution_count": null,
   "id": "17cf4441-bffc-458e-9c4e-76798594f51b",
   "metadata": {},
   "outputs": [],
   "source": []
  },
  {
   "cell_type": "code",
   "execution_count": 5,
   "id": "dce4b1d7-04d5-4263-97c9-61f13909ed9f",
   "metadata": {
    "tags": []
   },
   "outputs": [
    {
     "name": "stdin",
     "output_type": "stream",
     "text": [
      "... aziz\n"
     ]
    },
    {
     "name": "stdout",
     "output_type": "stream",
     "text": [
      "hello my name is aziz\n",
      "hello my name is aziz\n"
     ]
    }
   ],
   "source": [
    "x=input(\"...\") \n",
    "print(f\"hello my name is {x}\")\n",
    "print(\"hello my name is {}\".format(x))\n",
    "\n",
    "\n"
   ]
  },
  {
   "cell_type": "code",
   "execution_count": 13,
   "id": "acbf4c7a-620f-4219-a872-ebc57b469c31",
   "metadata": {
    "tags": []
   },
   "outputs": [
    {
     "name": "stdout",
     "output_type": "stream",
     "text": [
      "1 , 1.3\n"
     ]
    },
    {
     "ename": "TypeError",
     "evalue": "not all arguments converted during string formatting",
     "output_type": "error",
     "traceback": [
      "\u001b[1;31m---------------------------------------------------------------------------\u001b[0m",
      "\u001b[1;31mTypeError\u001b[0m                                 Traceback (most recent call last)",
      "Cell \u001b[1;32mIn[13], line 2\u001b[0m\n\u001b[0;32m      1\u001b[0m \u001b[38;5;28mprint\u001b[39m(\u001b[38;5;124m\"\u001b[39m\u001b[38;5;132;01m{}\u001b[39;00m\u001b[38;5;124m , \u001b[39m\u001b[38;5;132;01m{}\u001b[39;00m\u001b[38;5;124m\"\u001b[39m\u001b[38;5;241m.\u001b[39mformat(\u001b[38;5;241m1\u001b[39m , \u001b[38;5;241m1.3\u001b[39m))\n\u001b[1;32m----> 2\u001b[0m \u001b[38;5;28mprint\u001b[39m(\u001b[38;5;124m\"\u001b[39m\u001b[38;5;124m \u001b[39m\u001b[38;5;132;01m%f\u001b[39;00m\u001b[38;5;124m\"\u001b[39m\u001b[38;5;241m%\u001b[39m(\u001b[38;5;241m1\u001b[39m , \u001b[38;5;241m1.3\u001b[39m))\n",
      "\u001b[1;31mTypeError\u001b[0m: not all arguments converted during string formatting"
     ]
    }
   ],
   "source": [
    "print(\"{} , {}\".format(1 , 1.3))\n",
    "print(\" %f\"%(1 , 1.3))"
   ]
  },
  {
   "cell_type": "code",
   "execution_count": 59,
   "id": "570affa1-14f5-462c-a0ab-e02245a98065",
   "metadata": {
    "tags": []
   },
   "outputs": [
    {
     "name": "stdout",
     "output_type": "stream",
     "text": [
      "hello 5 and 6.656\n"
     ]
    }
   ],
   "source": [
    "x = 5\n",
    "aziz = 6.655885\n",
    "print(\"hello %d and %0.3f\" % (x, aziz))"
   ]
  },
  {
   "cell_type": "code",
   "execution_count": 73,
   "id": "1fb6d4eb-1a42-4483-a7fd-34e55c32620f",
   "metadata": {
    "tags": []
   },
   "outputs": [
    {
     "name": "stdout",
     "output_type": "stream",
     "text": [
      "<class 'complex'>\n",
      "(10+22j)\n",
      "10.0\n",
      "22.0\n"
     ]
    }
   ],
   "source": [
    "x  = 10 + 22j\n",
    "print(type(x))\n",
    "print(x)\n",
    "print(x.real)\n",
    "print(x.imag)"
   ]
  },
  {
   "cell_type": "code",
   "execution_count": 91,
   "id": "95948599-3a30-49dc-936c-931b9bf7d2a4",
   "metadata": {
    "tags": []
   },
   "outputs": [
    {
     "name": "stdout",
     "output_type": "stream",
     "text": [
      "<class 'range'>\n",
      "(0, 3, 6, 9)\n"
     ]
    }
   ],
   "source": [
    "#complex , int , float\n",
    "x = range(0,10,3)\n",
    "print(type(x))\n",
    "print(tuple(x))"
   ]
  },
  {
   "cell_type": "code",
   "execution_count": 95,
   "id": "33510b6d-8729-470d-8b27-13bb061faec4",
   "metadata": {
    "tags": []
   },
   "outputs": [
    {
     "name": "stdout",
     "output_type": "stream",
     "text": [
      "(0, 2, 4, 6, 8)\n"
     ]
    }
   ],
   "source": [
    "#start = 0\n",
    "#stop = 10\n",
    "#step =2\n",
    "x = range(0,10,2)\n",
    "print(tuple(x))"
   ]
  },
  {
   "cell_type": "code",
   "execution_count": 99,
   "id": "786df2b4-cf6f-4604-bacf-de68d17710e5",
   "metadata": {
    "tags": []
   },
   "outputs": [
    {
     "name": "stdout",
     "output_type": "stream",
     "text": [
      "az\n"
     ]
    }
   ],
   "source": [
    "aziz = \"aziz mendiw\"\n",
    "print(aziz[0:2])"
   ]
  },
  {
   "cell_type": "code",
   "execution_count": 1,
   "id": "d9cbedfb-d551-4df4-b2c0-bda419766a78",
   "metadata": {},
   "outputs": [
    {
     "name": "stdout",
     "output_type": "stream",
     "text": [
      "<class 'range'>\n"
     ]
    }
   ],
   "source": [
    "x = range(10)\n",
    "print(type(x))"
   ]
  },
  {
   "cell_type": "code",
   "execution_count": 3,
   "id": "474f477f-159d-437c-b8d9-e592bc74ad0e",
   "metadata": {
    "tags": []
   },
   "outputs": [
    {
     "data": {
      "text/plain": [
       "list"
      ]
     },
     "execution_count": 3,
     "metadata": {},
     "output_type": "execute_result"
    }
   ],
   "source": [
    "mylist = [1,5,5,9]\n",
    "type(mylist)"
   ]
  },
  {
   "cell_type": "code",
   "execution_count": 5,
   "id": "aa27df09-b68e-4884-90d5-8790ac626e5b",
   "metadata": {
    "tags": []
   },
   "outputs": [
    {
     "name": "stdout",
     "output_type": "stream",
     "text": [
      "[1, 5, 9]\n"
     ]
    }
   ],
   "source": [
    "print(mylist)"
   ]
  },
  {
   "cell_type": "code",
   "execution_count": 27,
   "id": "79283e9c-23c3-49f9-99b6-c638ac204e41",
   "metadata": {
    "tags": []
   },
   "outputs": [
    {
     "name": "stdout",
     "output_type": "stream",
     "text": [
      "[1, 2, 3, 4, 5, 6, 8, 9, 12]\n"
     ]
    }
   ],
   "source": [
    "#append , insert , extend , sort \n",
    "x=[1,9,2,3]\n",
    "x.append(4)\n",
    "x.insert(4 , 5)\n",
    "y=[6,12,8]\n",
    "x.extend(y)\n",
    "x.sort()\n",
    "print(x)"
   ]
  },
  {
   "cell_type": "code",
   "execution_count": 31,
   "id": "d6260797-7556-43d1-ba18-0d890d6c7756",
   "metadata": {
    "tags": []
   },
   "outputs": [
    {
     "name": "stdout",
     "output_type": "stream",
     "text": [
      "[12, 9, 8, 6, 5, 4, 3, 2, 1]\n"
     ]
    }
   ],
   "source": [
    "x.sort(reverse=True)\n",
    "print(x)"
   ]
  },
  {
   "cell_type": "code",
   "execution_count": null,
   "id": "a458ff8a-e046-4a24-b458-7d10c47bc6cf",
   "metadata": {},
   "outputs": [],
   "source": []
  }
 ],
 "metadata": {
  "kernelspec": {
   "display_name": "Python 3 (ipykernel)",
   "language": "python",
   "name": "python3"
  },
  "language_info": {
   "codemirror_mode": {
    "name": "ipython",
    "version": 3
   },
   "file_extension": ".py",
   "mimetype": "text/x-python",
   "name": "python",
   "nbconvert_exporter": "python",
   "pygments_lexer": "ipython3",
   "version": "3.11.5"
  }
 },
 "nbformat": 4,
 "nbformat_minor": 5
}
