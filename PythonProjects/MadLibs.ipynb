{
 "cells": [
  {
   "cell_type": "code",
   "execution_count": 5,
   "id": "3e98a23c",
   "metadata": {},
   "outputs": [
    {
     "name": "stdout",
     "output_type": "stream",
     "text": [
      "please input your name : Ali\n",
      "please input your age : 55\n",
      "please input your fav color : RED\n",
      "Please input your job  : ENG\n"
     ]
    }
   ],
   "source": [
    "name = input(\"please input your name : \")\n",
    "age = int(input(\"please input your age : \"))\n",
    "color = input(\"please input your fav color : \")\n",
    "job = input(\"Please input your job  : \")"
   ]
  },
  {
   "cell_type": "code",
   "execution_count": 6,
   "id": "4b5ddc66",
   "metadata": {},
   "outputs": [
    {
     "name": "stdout",
     "output_type": "stream",
     "text": [
      "Your name is Ali\n",
      "Your name is  55\n",
      "Your name is RED\n",
      "Your name is ENG\n"
     ]
    }
   ],
   "source": [
    "print(f\"Your name is {name}\")\n",
    "print(\"Your name is \" , age)\n",
    "print(\"Your name is \" + color)\n",
    "print(\"Your name is \" + job)"
   ]
  },
  {
   "cell_type": "code",
   "execution_count": null,
   "id": "adc887c8",
   "metadata": {},
   "outputs": [],
   "source": []
  }
 ],
 "metadata": {
  "kernelspec": {
   "display_name": "Python 3 (ipykernel)",
   "language": "python",
   "name": "python3"
  },
  "language_info": {
   "codemirror_mode": {
    "name": "ipython",
    "version": 3
   },
   "file_extension": ".py",
   "mimetype": "text/x-python",
   "name": "python",
   "nbconvert_exporter": "python",
   "pygments_lexer": "ipython3",
   "version": "3.11.5"
  }
 },
 "nbformat": 4,
 "nbformat_minor": 5
}
